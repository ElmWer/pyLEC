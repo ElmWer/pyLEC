{
 "cells": [
  {
   "cell_type": "markdown",
   "metadata": {},
   "source": [
    "### Largest Empty Circle"
   ]
  },
  {
   "cell_type": "code",
   "execution_count": 1,
   "metadata": {
    "collapsed": false,
    "jupyter": {
     "outputs_hidden": false
    }
   },
   "outputs": [],
   "source": [
    "%matplotlib ipympl\n",
    "\n",
    "import numpy as np\n",
    "from scipy import spatial\n",
    "from shapely.geometry import asPolygon, asPoint\n",
    "from matplotlib import path\n",
    "\n",
    "import matplotlib.pyplot as plt"
   ]
  },
  {
   "cell_type": "markdown",
   "metadata": {},
   "source": [
    "### Develop Function"
   ]
  },
  {
   "cell_type": "code",
   "execution_count": 2,
   "metadata": {},
   "outputs": [],
   "source": [
    "# load test dat\n",
    "points = np.loadtxt(\"test_dat.csv\", delimiter=\",\")"
   ]
  },
  {
   "cell_type": "code",
   "execution_count": 3,
   "metadata": {},
   "outputs": [
    {
     "name": "stdout",
     "output_type": "stream",
     "text": [
      "CPU times: user 3.21 ms, sys: 0 ns, total: 3.21 ms\n",
      "Wall time: 2.14 ms\n"
     ]
    }
   ],
   "source": [
    "%%time\n",
    "# Step 1: get Voronoi vertices (scipy.spatial)\n",
    "vor_Verts = spatial.Voronoi(points).vertices"
   ]
  },
  {
   "cell_type": "code",
   "execution_count": 7,
   "metadata": {},
   "outputs": [
    {
     "name": "stdout",
     "output_type": "stream",
     "text": [
      "CPU times: user 1.18 s, sys: 291 µs, total: 1.18 s\n",
      "Wall time: 1.18 s\n"
     ]
    }
   ],
   "source": [
    "%%time\n",
    "# Step 2: select Voronoi vertices inside the convex hull (shapely)   \n",
    "vor_shp = [asPoint(xy) for xy in vor_Verts]\n",
    "hull_shp = asPolygon(points)\n",
    "selector = [xy.within(hull_shp) for xy in vor_shp]\n",
    "vor_Verts = vor_Verts[selector]  # Verts inside Polygon"
   ]
  },
  {
   "cell_type": "code",
   "execution_count": 8,
   "metadata": {},
   "outputs": [
    {
     "name": "stdout",
     "output_type": "stream",
     "text": [
      "CPU times: user 0 ns, sys: 1.18 ms, total: 1.18 ms\n",
      "Wall time: 1.23 ms\n"
     ]
    }
   ],
   "source": [
    "%%time\n",
    "# Step 2: select Voronoi vertices inside the convex hull (mpl)\n",
    "polygon = path.Path(points)\n",
    "selector = polygon.contains_points(vor_Verts)\n",
    "vor_Verts = vor_Verts[selector]  # Verts inside Polygon"
   ]
  },
  {
   "cell_type": "code",
   "execution_count": 9,
   "metadata": {},
   "outputs": [
    {
     "name": "stdout",
     "output_type": "stream",
     "text": [
      "CPU times: user 42.5 ms, sys: 0 ns, total: 42.5 ms\n",
      "Wall time: 42.4 ms\n"
     ]
    }
   ],
   "source": [
    "%%time\n",
    "# Step 3: Get nearest neighbors as well as radius und centroid of LEC\n",
    "tree = spatial.KDTree(points)\n",
    "neighbores = tree.query(vor_Verts)\n",
    "idx = np.argmax(neighbores[0])\n",
    "LEC_Radius = neighbores[0][idx]\n",
    "LEC_Centroid = vor_Verts[idx]"
   ]
  },
  {
   "cell_type": "code",
   "execution_count": 10,
   "metadata": {},
   "outputs": [
    {
     "data": {
      "application/vnd.jupyter.widget-view+json": {
       "model_id": "0fb25aacfda144f9a46b2a7af2d77529",
       "version_major": 2,
       "version_minor": 0
      },
      "text/plain": [
       "Canvas(toolbar=Toolbar(toolitems=[('Home', 'Reset original view', 'home', 'home'), ('Back', 'Back to previous …"
      ]
     },
     "metadata": {},
     "output_type": "display_data"
    }
   ],
   "source": [
    "fig, ax = plt.subplots()\n",
    "ax.set_aspect('equal')\n",
    "\n",
    "ax.plot(points[:, 0], points[:, 1], 'go-', lw=1, ms=2)\n",
    "\n",
    "plt.plot(LEC_Centroid[0], LEC_Centroid[1], 'bx')\n",
    "circle = plt.Circle(LEC_Centroid, LEC_Radius, ec='blue', color='None' ,lw=1)\n",
    "ax.add_artist(circle);"
   ]
  },
  {
   "cell_type": "code",
   "execution_count": 12,
   "metadata": {},
   "outputs": [],
   "source": [
    "def pyLEC(points):\n",
    "    '''\n",
    "    LEC: Largest Empty Circle between Points in a flat plane\n",
    "    also know as Toxic Waste Dump or Pole of Inaccessibility\n",
    "    problem\n",
    "    \n",
    "\n",
    "    see: https://en.wikipedia.org/wiki/Largest_empty_sphere\n",
    "    The largest empty circle problem is the problem of finding\n",
    "    a circle of largest radius in the plane whose interior\n",
    "    does not overlap with any given point and whose center\n",
    "    is lying in the convex hull of the points.\n",
    "    \n",
    "    Hint: The LEC is centered at the internal Voronoi vertices\n",
    "    with the largest shortest distance to the polygon\n",
    "\n",
    "    Parameters\n",
    "    ----------\n",
    "    points : 2d numpy array with x, y coordinate of the points\n",
    "             on the Concave Hull\n",
    "\n",
    "    Returns\n",
    "    -------\n",
    "    LEC_Radius: scalar\n",
    "    LEC_Centroid: (x, y)\n",
    "    '''\n",
    "    \n",
    "    # Error handling\n",
    "    if points.shape[0] < 3:\n",
    "        print('less than 3 Points: ')\n",
    "        return np.nan, (np.nan, np.nan)\n",
    "\n",
    "    # Step 1: get Voronoi vertices (scipy.spatial)\n",
    "    vor_Verts = spatial.Voronoi(points).vertices\n",
    "\n",
    "    # Step 2: select Voronoi vertices inside the convex hull (mpl)\n",
    "    polygon = path.Path(points)\n",
    "    selector = polygon.contains_points(vor_Verts)\n",
    "    vor_Verts = vor_Verts[selector]  # Verts inside Polygon Verts inside Polygon\n",
    "\n",
    "    # Step 3: Get nearest neighbors as well as radius und centroid of LEC\n",
    "    tree = spatial.KDTree(points)\n",
    "    neighbores = tree.query(vor_Verts)\n",
    "    idx = np.argmax(neighbores[0])\n",
    "    LEC_Radius = neighbores[0][idx]\n",
    "    LEC_Centroid = vor_Verts[idx]\n",
    "    \n",
    "    return LEC_Radius, LEC_Centroid"
   ]
  },
  {
   "cell_type": "markdown",
   "metadata": {},
   "source": [
    "### test function"
   ]
  },
  {
   "cell_type": "code",
   "execution_count": 13,
   "metadata": {},
   "outputs": [
    {
     "data": {
      "application/vnd.jupyter.widget-view+json": {
       "model_id": "943dab9c45ae471c9bd8babb160caed1",
       "version_major": 2,
       "version_minor": 0
      },
      "text/plain": [
       "Canvas(toolbar=Toolbar(toolitems=[('Home', 'Reset original view', 'home', 'home'), ('Back', 'Back to previous …"
      ]
     },
     "metadata": {},
     "output_type": "display_data"
    }
   ],
   "source": [
    "xy = np.loadtxt(\"test_dat.csv\", delimiter=\",\")\n",
    "\n",
    "LEC = pyLEC(xy)\n",
    "\n",
    "fig, ax = plt.subplots()\n",
    "ax.set_aspect('equal')\n",
    "\n",
    "ax.plot(xy[:, 0], xy[:, 1], 'go-', lw=1, ms=2)\n",
    "\n",
    "plt.plot(LEC[1][0], LEC[1][1], 'bx')\n",
    "circle = plt.Circle(LEC[1], LEC[0], ec='blue', color='None' ,lw=1)\n",
    "ax.add_artist(circle);"
   ]
  },
  {
   "cell_type": "code",
   "execution_count": null,
   "metadata": {},
   "outputs": [],
   "source": []
  }
 ],
 "metadata": {
  "kernelspec": {
   "display_name": "Python 3",
   "language": "python",
   "name": "python3"
  },
  "language_info": {
   "codemirror_mode": {
    "name": "ipython",
    "version": 3
   },
   "file_extension": ".py",
   "mimetype": "text/x-python",
   "name": "python",
   "nbconvert_exporter": "python",
   "pygments_lexer": "ipython3",
   "version": "3.8.6"
  },
  "widgets": {
   "application/vnd.jupyter.widget-state+json": {
    "state": {},
    "version_major": 2,
    "version_minor": 0
   }
  }
 },
 "nbformat": 4,
 "nbformat_minor": 4
}
